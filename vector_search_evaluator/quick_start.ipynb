{
  "cells": [
    {
      "cell_type": "markdown",
      "metadata": {
        "id": "tiCQFmHZXtSk"
      },
      "source": [
        "# Vector Search Evaluator\n",
        "\n",
        "This notebook evaluates TIG's vector search algorithms against standard academic benchmark instances.\n",
        "\n",
        "**Useful Links:**\n",
        "  * [Challenge Description](https://tig.foundation/challenges/vector_search)\n",
        "  * [Challenge Code](https://github.com/tig-foundation/tig-monorepo/blob/main/tig-challenges/src/vector_search.rs)"
      ]
    },
    {
      "cell_type": "markdown",
      "metadata": {
        "id": "YOwm9nQBLyfZ"
      },
      "source": [
        "## 1. Setup Environment"
      ]
    },
    {
      "cell_type": "markdown",
      "metadata": {
        "id": "hyOWRsY2L3-K"
      },
      "source": [
        "### 1.1. Install Cargo"
      ]
    },
    {
      "cell_type": "code",
      "execution_count": null,
      "metadata": {
        "id": "Y04ZmAmKDqaS"
      },
      "outputs": [],
      "source": [
        "import shutil\n",
        "import os\n",
        "if shutil.which(\"cargo\") is None:\n",
        "    print(\"cargo not found. Installing Rust and Cargo...\")\n",
        "    !curl --proto '=https' --tlsv1.2 -sSf https://sh.rustup.rs | sh -s -- -y\n",
        "    os.environ[\"PATH\"] += f\":{os.environ['HOME']}/.cargo/bin\"\n",
        "else:\n",
        "    print(\"cargo is already installed.\")"
      ]
    },
    {
      "cell_type": "markdown",
      "metadata": {
        "id": "qj4LiWHvL6ys"
      },
      "source": [
        "### 1.2. Clone tig-SOTA-metrics"
      ]
    },
    {
      "cell_type": "code",
      "execution_count": null,
      "metadata": {
        "id": "n-8G4zbsDvhV"
      },
      "outputs": [],
      "source": [
        "cwd = os.getcwd()\n",
        "if cwd.endswith(\"tig-SOTA-metrics\"):\n",
        "    os.chdir(\"vector_search_evaluator\")\n",
        "elif not cwd.endswith(\"vector_search_evaluator\"):\n",
        "    !git clone https://github.com/tig-foundation/tig-SOTA-metrics\n",
        "    os.chdir(\"tig-SOTA-metrics/vector_search_evaluator\")\n",
        "else:\n",
        "    print(\"already in the vector_search_evaluator directory.\")"
      ]
    },
    {
      "cell_type": "markdown",
      "metadata": {},
      "source": [
        "### 1.3. Install Python Dependencies"
      ]
    },
    {
      "cell_type": "code",
      "execution_count": null,
      "metadata": {},
      "outputs": [],
      "source": [
        "!pip install -r requirements.txt"
      ]
    },
    {
      "cell_type": "markdown",
      "metadata": {
        "id": "oZ6NgMI3L-2O"
      },
      "source": [
        "### 1.4. Download Datasets\n",
        "\n",
        "Currently, this evaluator has two placeholder datasets (SOTA datasets TBC):\n",
        "- **SIFT** is a dataset of Scale-Invariant Feature Transform descriptors. Original source: [INRIA TEXMEX Corpus](ftp://ftp.irisa.fr/local/texmex/corpus/sift.tar.gz):\n",
        "    - Dimensions: 128\n",
        "    - Base vectors: 1,000,000\n",
        "    - Query vectors: 10,000\n",
        "\n",
        "- **Fashion-MNIST** is dataset of clothing item images encoded as vectors. Original source: [HuggingFace Dataset](https://huggingface.co/datasets/open-vdb/fashion-mnist-784-euclidean):\n",
        "    - Dimensions: 784\n",
        "    - Base vectors: 60,000\n",
        "    - Query vectors: 10,000"
      ]
    },
    {
      "cell_type": "code",
      "execution_count": null,
      "metadata": {
        "id": "jfLx2xY5GQzd"
      },
      "outputs": [],
      "source": [
        "datasets = [\"SIFT\", \"Fashion_MNIST\"]\n",
        "for ds in datasets:\n",
        "    if not os.path.exists(f\"data/{ds}\"):\n",
        "        !cd data && python3 download_{ds}.py\n",
        "    else:\n",
        "        print(f\"{ds} dataset already downloaded.\")"
      ]
    },
    {
      "cell_type": "markdown",
      "metadata": {
        "id": "WzhHSWqwMF4j"
      },
      "source": [
        "## 2. Perform Evaluation"
      ]
    },
    {
      "cell_type": "markdown",
      "metadata": {
        "id": "bY9dsa2pMIKd"
      },
      "source": [
        "### 2.1. Fetch Top Earning Algorithms"
      ]
    },
    {
      "cell_type": "markdown",
      "metadata": {},
      "source": [
        "Vector Search was updated to a GPU challenge in round 74"
      ]
    },
    {
      "cell_type": "code",
      "execution_count": null,
      "metadata": {
        "id": "hl4tyLsHH4YI"
      },
      "outputs": [],
      "source": [
        "import requests\n",
        "\n",
        "API_URL = \"https://mainnet-api.tig.foundation\"\n",
        "\n",
        "print(\"Fetching block\")\n",
        "block = requests.get(f\"{API_URL}/get-block\").json()[\"block\"]\n",
        "curr_round = block[\"details\"][\"round\"]\n",
        "print(f\"Current Round: {curr_round}\")\n",
        "\n",
        "algorithms = {\n",
        "    x['id']: x\n",
        "    for x in requests.get(f\"{API_URL}/get-algorithms?block_id={block['id']}\").json()[\"algorithms\"]\n",
        "}\n",
        "\n",
        "print(f\"Fetching Top Earning Algorithms for Vector Search from Rounds 74 to {curr_round - 1}\")\n",
        "top_algos = []\n",
        "for r in range(74, curr_round):\n",
        "    data = requests.get(f\"{API_URL}/get-round-emissions?round={r}\").json()\n",
        "    a_id, earnings = max(\n",
        "        filter(\n",
        "            lambda x: x[0].startswith(\"c004\"),\n",
        "            map(\n",
        "                lambda x: (x[0], int(x[1]) / 1e18),\n",
        "                data[\"algorithms\"].items()\n",
        "            )\n",
        "        ),\n",
        "        key=lambda x: x[1]\n",
        "    )\n",
        "    a_name = algorithms[a_id]['details']['name']\n",
        "    print(f\"Round: {r}, Algo: {a_name}, Round Earnings: {earnings:.2f} TIG\")\n",
        "    top_algos.append((r, a_name))"
      ]
    },
    {
      "cell_type": "markdown",
      "metadata": {},
      "source": [
        "### 2.2. (Optional) Evaluate Local Algorithm\n",
        "\n",
        "If you want to evaluate an algorithm that has not been submitted to TIG (e.g. you are preparing Advance Submission):\n",
        "\n",
        "1. Add your algorithm code to `src/{ALGORITHM_NAME}.rs` and `src/{ALGORITHM_NAME}.cu`\n",
        "2. Uncomment, edit, and run the below cell"
      ]
    },
    {
      "cell_type": "code",
      "execution_count": null,
      "metadata": {},
      "outputs": [],
      "source": [
        "# top_algos.append((curr_round + 4, {ALGORITHM_NAME}))"
      ]
    },
    {
      "cell_type": "markdown",
      "metadata": {
        "id": "edCsnbuWMNNF"
      },
      "source": [
        "### 2.3. Run Evaluations\n",
        "\n",
        "Evaluation results are saved to `evaluations` folder as csv files"
      ]
    },
    {
      "cell_type": "code",
      "execution_count": null,
      "metadata": {
        "id": "mmwewHgsHf_i"
      },
      "outputs": [],
      "source": [
        "unique_algos = set(x[1] for x in top_algos)\n",
        "for a in unique_algos:\n",
        "  for ds in datasets:\n",
        "      !bash run.sh data/{dataset} {a}"
      ]
    },
    {
      "cell_type": "markdown",
      "metadata": {},
      "source": [
        "## 3. Plotting Results\n",
        "\n",
        "Todo"
      ]
    }
  ],
  "metadata": {
    "colab": {
      "provenance": []
    },
    "kernelspec": {
      "display_name": "Python 3 (ipykernel)",
      "language": "python",
      "name": "python3"
    },
    "language_info": {
      "codemirror_mode": {
        "name": "ipython",
        "version": 3
      },
      "file_extension": ".py",
      "mimetype": "text/x-python",
      "name": "python",
      "nbconvert_exporter": "python",
      "pygments_lexer": "ipython3",
      "version": "3.12.3"
    }
  },
  "nbformat": 4,
  "nbformat_minor": 0
}
