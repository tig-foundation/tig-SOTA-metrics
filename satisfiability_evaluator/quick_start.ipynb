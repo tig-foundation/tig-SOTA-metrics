{
  "cells": [
    {
      "cell_type": "markdown",
      "metadata": {
        "id": "tiCQFmHZXtSk"
      },
      "source": [
        "# Satisfiability Evaluator\n",
        "\n",
        "This notebook evaluates TIG's satisfiability algorithms against standard academic benchmark instances of the 3-SAT problem, where each clause in the CNF formula has at most three literals.\n",
        "\n",
        "**Useful Links:**\n",
        "  * [Challenge Description](https://tig.foundation/challenges/satisfiability)\n",
        "  * [Challenge Code](https://github.com/tig-foundation/tig-monorepo/blob/main/tig-challenges/src/satisfiability.rs)  "
      ]
    },
    {
      "cell_type": "markdown",
      "metadata": {
        "id": "YOwm9nQBLyfZ"
      },
      "source": [
        "## 1. Setup Environment"
      ]
    },
    {
      "cell_type": "markdown",
      "metadata": {
        "id": "hyOWRsY2L3-K"
      },
      "source": [
        "### 1.1. Install Cargo"
      ]
    },
    {
      "cell_type": "code",
      "execution_count": null,
      "metadata": {
        "id": "Y04ZmAmKDqaS"
      },
      "outputs": [],
      "source": [
        "import shutil\n",
        "import os\n",
        "if shutil.which(\"cargo\") is None:\n",
        "    print(\"cargo not found. Installing Rust and Cargo...\")\n",
        "    !curl --proto '=https' --tlsv1.2 -sSf https://sh.rustup.rs | sh -s -- -y\n",
        "    os.environ[\"PATH\"] += f\":{os.environ['HOME']}/.cargo/bin\"\n",
        "else:\n",
        "    print(\"cargo is already installed.\")"
      ]
    },
    {
      "cell_type": "markdown",
      "metadata": {
        "id": "qj4LiWHvL6ys"
      },
      "source": [
        "### 1.2. Clone tig-SOTA-metrics"
      ]
    },
    {
      "cell_type": "code",
      "execution_count": null,
      "metadata": {
        "id": "n-8G4zbsDvhV"
      },
      "outputs": [],
      "source": [
        "cwd = os.getcwd()\n",
        "if cwd.endswith(\"tig-SOTA-metrics\"):\n",
        "    os.chdir(\"satisfiability_evaluator\")\n",
        "elif not cwd.endswith(\"satisfiability_evaluator\"):\n",
        "    !git clone https://github.com/tig-foundation/tig-SOTA-metrics\n",
        "    os.chdir(\"tig-SOTA-metrics/satisfiability_evaluator\")\n",
        "else:\n",
        "    print(\"already in the satisfiability_evaluator directory.\")"
      ]
    },
    {
      "cell_type": "markdown",
      "metadata": {},
      "source": [
        "### 1.3. Install Python Dependencies"
      ]
    },
    {
      "cell_type": "code",
      "execution_count": null,
      "metadata": {},
      "outputs": [],
      "source": [
        "!pip install -r requirements.txt"
      ]
    },
    {
      "cell_type": "markdown",
      "metadata": {
        "id": "oZ6NgMI3L-2O"
      },
      "source": [
        "### 1.4. Download Datasets\n",
        "\n",
        "Currently, this evaluator has two placeholder datasets (SOTA datasets TBC):\n",
        "\n",
        "- **2018_2024_3_SAT** SAT Competition (2018–2024): 3-CNF instances from the main track, used in SAT Competitions between 2018 and 2024. [Sourced from Global-Benchmark-Database](https://benchmark-database.de/)[^1]\n",
        "\n",
        "- **SATLIB** Uniform Random 3-SAT: Randomly generated 3-SAT formulas from SATLIB Benchmark series. [Sourced from SATLIB - Benchmark Problems](https://www.cs.ubc.ca/~hoos/SATLIB/benchm.html)\n",
        "\n",
        "[^1]: Markus Iser and Christoph Jabs. Global Benchmark Database. In 27th International Conference on Theory and Applications of Satisfiability Testing (SAT 2024). Leibniz International Proceedings in Informatics (LIPIcs), Volume 305, pp. 18:1-18:10, Schloss Dagstuhl – Leibniz-Zentrum für Informatik (2024) https://doi.org/10.4230/LIPIcs.SAT.2024.18"
      ]
    },
    {
      "cell_type": "code",
      "execution_count": null,
      "metadata": {
        "id": "jfLx2xY5GQzd"
      },
      "outputs": [],
      "source": [
        "datasets = [\"2018_2024_3_SAT\", \"SATLIB\"]\n",
        "for ds in datasets:\n",
        "    if not os.path.exists(f\"data/{ds}\"):\n",
        "        !cd data && python3 download_{dataset}.py\n",
        "    else:\n",
        "        print(f\"{ds} dataset already downloaded.\")"
      ]
    },
    {
      "cell_type": "markdown",
      "metadata": {
        "id": "WzhHSWqwMF4j"
      },
      "source": [
        "## 2. Perform Evaluation"
      ]
    },
    {
      "cell_type": "markdown",
      "metadata": {
        "id": "bY9dsa2pMIKd"
      },
      "source": [
        "### 2.1. Fetch Top Earning Algorithms"
      ]
    },
    {
      "cell_type": "markdown",
      "metadata": {},
      "source": [
        "Satisfiability was updated to Rust in round 25"
      ]
    },
    {
      "cell_type": "code",
      "execution_count": null,
      "metadata": {
        "id": "hl4tyLsHH4YI"
      },
      "outputs": [],
      "source": [
        "import requests\n",
        "\n",
        "API_URL = \"https://mainnet-api.tig.foundation\"\n",
        "\n",
        "print(\"Fetching block\")\n",
        "block = requests.get(f\"{API_URL}/get-block\").json()[\"block\"]\n",
        "curr_round = block[\"details\"][\"round\"]\n",
        "print(f\"Current Round: {curr_round}\")\n",
        "\n",
        "algorithms = {\n",
        "    x['id']: x\n",
        "    for x in requests.get(f\"{API_URL}/get-algorithms?block_id={block['id']}\").json()[\"algorithms\"]\n",
        "}\n",
        "\n",
        "print(f\"Fetching Top Earning Algorithms for Satisfiability from Rounds 25 to {curr_round - 1}\")\n",
        "top_algos = []\n",
        "for r in range(25, curr_round):\n",
        "    data = requests.get(f\"{API_URL}/get-round-emissions?round={r}\").json()\n",
        "    a_id, earnings = max(\n",
        "        filter(\n",
        "            lambda x: x[0].startswith(\"c001\"),\n",
        "            map(\n",
        "                lambda x: (x[0], int(x[1]) / 1e18),\n",
        "                data[\"algorithms\"].items()\n",
        "            )\n",
        "        ),\n",
        "        key=lambda x: x[1]\n",
        "    )\n",
        "    a_name = algorithms[a_id]['details']['name']\n",
        "    print(f\"Round: {r}, Algo: {a_name}, Round Earnings: {earnings:.2f} TIG\")\n",
        "    top_algos.append((r, a_name))"
      ]
    },
    {
      "cell_type": "markdown",
      "metadata": {},
      "source": [
        "### 2.2. (Optional) Evaluate Local Algorithm\n",
        "\n",
        "If you want to evaluate an algorithm that has not been submitted to TIG (e.g. you are preparing Advance Submission):\n",
        "\n",
        "1. Add your algorithm code to `src/{ALGORITHM_NAME}.rs` and `src/{ALGORITHM_NAME}.cu`\n",
        "2. Uncomment, edit, and run the below cell"
      ]
    },
    {
      "cell_type": "code",
      "execution_count": null,
      "metadata": {},
      "outputs": [],
      "source": [
        "# top_algos.append((curr_round + 4, {ALGORITHM_NAME}))"
      ]
    },
    {
      "cell_type": "markdown",
      "metadata": {
        "id": "edCsnbuWMNNF"
      },
      "source": [
        "### 2.3. Run Evaluations\n",
        "\n",
        "Evaluation results are saved to `evaluations` folder as csv files"
      ]
    },
    {
      "cell_type": "code",
      "execution_count": null,
      "metadata": {
        "id": "mmwewHgsHf_i"
      },
      "outputs": [],
      "source": [
        "unique_algos = set(x[1] for x in top_algos)\n",
        "for a in unique_algos:\n",
        "  for ds in datasets:\n",
        "      !bash run.sh data/{ds} {a}"
      ]
    },
    {
      "cell_type": "markdown",
      "metadata": {},
      "source": [
        "## 3. Plotting Results\n",
        "\n",
        "Todo"
      ]
    }
  ],
  "metadata": {
    "colab": {
      "provenance": []
    },
    "kernelspec": {
      "display_name": "Python 3 (ipykernel)",
      "language": "python",
      "name": "python3"
    },
    "language_info": {
      "codemirror_mode": {
        "name": "ipython",
        "version": 3
      },
      "file_extension": ".py",
      "mimetype": "text/x-python",
      "name": "python",
      "nbconvert_exporter": "python",
      "pygments_lexer": "ipython3",
      "version": "3.12.3"
    }
  },
  "nbformat": 4,
  "nbformat_minor": 0
}
